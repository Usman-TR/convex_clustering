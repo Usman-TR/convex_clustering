{
 "cells": [
  {
   "cell_type": "code",
   "execution_count": 246,
   "metadata": {
    "id": "tQdC1nQPYF6Z"
   },
   "outputs": [],
   "source": [
    "import numpy as np\n",
    "import pandas as pd\n",
    "from sklearn.datasets import make_classification, make_circles\n",
    "from matplotlib import pyplot as plt\n",
    "# from sklearn.cluster import AgglomerativeClustering, KMeans, SpectralClustering\n",
    "# from sklearn.mixture import GaussianMixture\n",
    "import cvxpy as cp\n",
    "# from numpy import linalg as LA\n",
    "from matplotlib.pyplot import cm\n",
    "import time\n",
    "from sklearn.metrics import adjusted_rand_score, adjusted_mutual_info_score"
   ]
  },
  {
   "cell_type": "markdown",
   "metadata": {
    "id": "mR7rjPTbWPEl"
   },
   "source": [
    "# Classes with the following clustering algorithms: K-Means, spectral clustering, and Gaussian mixture"
   ]
  },
  {
   "cell_type": "code",
   "execution_count": 199,
   "metadata": {
    "id": "P-tZnPDsWPEn"
   },
   "outputs": [],
   "source": [
    "class K_Means:\n",
    "    def __init__(self, k=2, tol=0.001, max_iter=300):\n",
    "        self.k = k\n",
    "        self.tol = tol\n",
    "        self.max_iter = max_iter\n",
    "\n",
    "    def fit(self, data):\n",
    "        self.centroids = {}\n",
    "\n",
    "        for i in range(self.k):\n",
    "            self.centroids[i] = data[i]\n",
    "\n",
    "        for i in range(self.max_iter):\n",
    "            self.classifications = {}\n",
    "\n",
    "            for i in range(self.k):\n",
    "                self.classifications[i] = []\n",
    "\n",
    "            for featureset in data:\n",
    "                distances = [np.linalg.norm(featureset-self.centroids[centroid]) for centroid in self.centroids]\n",
    "                classification = distances.index(min(distances))\n",
    "                self.classifications[classification].append(featureset)\n",
    "\n",
    "            prev_centroids = dict(self.centroids)\n",
    "\n",
    "            for classification in self.classifications:\n",
    "                self.centroids[classification] = np.average(self.classifications[classification],axis=0)\n",
    "\n",
    "            optimized = True\n",
    "\n",
    "            for c in self.centroids:\n",
    "                original_centroid = prev_centroids[c]\n",
    "                current_centroid = self.centroids[c]\n",
    "                if np.sum((current_centroid-original_centroid)/original_centroid*100.0) > self.tol:\n",
    "                    optimized = False\n",
    "\n",
    "            if optimized:\n",
    "                break\n",
    "\n",
    "    def predict(self,data):\n",
    "        distances = [np.linalg.norm(data-self.centroids[centroid]) for centroid in self.centroids]\n",
    "        classification = distances.index(min(distances))\n",
    "        return classification"
   ]
  },
  {
   "cell_type": "code",
   "execution_count": 200,
   "metadata": {
    "id": "P4DWXwOkf60m"
   },
   "outputs": [],
   "source": [
    "class SpectralClustering:\n",
    "    #define params\n",
    "    def __init__(self, k=2, method='random'):\n",
    "        self.k = 2 #numb of clusters\n",
    "        self.iterationCounter = 0 #clustering iteration counter\n",
    "        self.initCentroidMethod = method #options: random, kmeans++, badInit, zeroInit\n",
    "\n",
    "    def initCentroid(self, dataIn, method, k):\n",
    "        if (method==\"random\"):\n",
    "            result = dataIn[np.random.choice(dataIn.shape[0], k, replace=False)]\n",
    "        if (method==\"kmeans++\"):\n",
    "            euclideanMatrixAllCentroid = np.ndarray(shape=(dataIn.shape[0], 0))\n",
    "            allCentroid = np.ndarray(shape=(0,dataIn.shape[1]))\n",
    "            first = dataIn[np.random.choice(dataIn.shape[0], 1, replace=False)]\n",
    "            allCentroid = np.concatenate((allCentroid, first), axis=0)\n",
    "            repeatedCent = np.repeat(first, dataIn.shape[0], axis=0)\n",
    "            deltaMatrix = abs(np.subtract(dataIn, repeatedCent))\n",
    "            euclideanMatrix = np.sqrt(np.square(deltaMatrix).sum(axis=1))\n",
    "            indexNextCent = (np.argmax(np.matrix(euclideanMatrix)))\n",
    "            if(k>1):\n",
    "                for a in range(1,k):\n",
    "                    nextCent = np.matrix(dataIn[np.item(indexNextCent),:])\n",
    "                    allCentroid = np.concatenate((allCentroid, nextCent), axis=0)\n",
    "                    for i in range(0,allCentroid.shape[0]):\n",
    "                        repeatedCent = np.repeat(allCentroid[i,:], dataIn.shape[0], axis=0)\n",
    "                        deltaMatrix = abs(np.subtract(dataIn, repeatedCent))\n",
    "                        euclideanMatrix = np.sqrt(np.square(deltaMatrix).sum(axis=1))\n",
    "                        euclideanMatrixAllCentroid = \\\n",
    "                            np.concatenate((euclideanMatrixAllCentroid, euclideanMatrix), axis=1)\n",
    "                    euclideanFinal = np.min(np.matrix(euclideanMatrixAllCentroid), axis=1)\n",
    "                    indexNextCent = np.argmax(np.matrix(euclideanFinal))\n",
    "            result = allCentroid\n",
    "        if (method==\"badInit\"):\n",
    "            allCentroid = np.ndarray(shape=(0,dataIn.shape[1]))\n",
    "            firstIndex = np.random.randint(0,dataIn.shape[0])\n",
    "            first = np.matrix(dataIn[firstIndex,:])\n",
    "            dataIn = np.delete(dataIn, firstIndex, 0)\n",
    "            allCentroid = np.concatenate((allCentroid, first), axis=0)\n",
    "            repeatedCent = np.repeat(first, dataIn.shape[0], axis=0)\n",
    "            deltaMatrix = abs(np.subtract(dataIn, repeatedCent))\n",
    "            euclideanMatrix = np.sqrt(np.square(deltaMatrix).sum(axis=1))\n",
    "            indexNextCent = (np.argmin(np.matrix(euclideanMatrix)))\n",
    "            if(k>1):\n",
    "                for a in range(1,k):\n",
    "                    nextCent = np.matrix(dataIn[np.item(indexNextCent),:])\n",
    "                    dataIn = np.delete(dataIn, np.item(indexNextCent), 0)\n",
    "                    euclideanMatrixAllCentroid = np.ndarray(shape=(dataIn.shape[0], 0))\n",
    "                    allCentroid = np.concatenate((allCentroid, nextCent), axis=0)\n",
    "                    for i in range(0,allCentroid.shape[0]):\n",
    "                        repeatedCent = np.repeat(allCentroid[i,:], dataIn.shape[0], axis=0)\n",
    "                        deltaMatrix = abs(np.subtract(dataIn, repeatedCent))\n",
    "                        euclideanMatrix = np.sqrt(np.square(deltaMatrix).sum(axis=1))\n",
    "                        euclideanMatrixAllCentroid = \\\n",
    "                            np.concatenate((euclideanMatrixAllCentroid, euclideanMatrix), axis=1)\n",
    "                    euclideanFinal = np.min(np.matrix(euclideanMatrixAllCentroid), axis=1)\n",
    "                    indexNextCent = np.argmin(np.matrix(euclideanFinal))\n",
    "            result = allCentroid\n",
    "        if (method==\"zeroInit\"):\n",
    "            result = np.matrix(np.full((k,dataIn.shape[1]),0))\n",
    "\n",
    "        return result\n",
    "\n",
    "    def plotClusterResult(self, listClusterMembers, centroid, iteration, converged):\n",
    "        n = listClusterMembers.__len__()\n",
    "        color = iter(cm.rainbow(np.linspace(0, 1, n)))\n",
    "        plt.figure(\"result\")\n",
    "        plt.clf()\n",
    "        plt.title(\"iteration-\" + iteration)\n",
    "        for i in range(n):\n",
    "            col = next(color)\n",
    "            memberCluster = np.asmatrix(listClusterMembers[i])\n",
    "            plt.scatter(np.ravel(memberCluster[:, 0]), np.ravel(memberCluster[:, 1]), marker=\".\", s=100, color=col)\n",
    "            plt.scatter((centroid[i, 0]), (centroid[i, 1]), marker=\"+\", s=400, color=col, edgecolors=\"black\")\n",
    "        if(converged == 0):\n",
    "            plt.ion()\n",
    "            plt.show()\n",
    "            plt.pause(0.1)\n",
    "        if (converged == 1):\n",
    "            plt.show(block=True)\n",
    "    \n",
    "    def kMeans(self, data, centroidInit):\n",
    "        nCluster = centroidInit.shape[0]\n",
    "        centroidInit = np.matrix(centroidInit)\n",
    "        while(True):\n",
    "            self.iterationCounter +=1\n",
    "            euclideanMatrixAllCluster = np.ndarray(shape=(data.shape[0], 0))\n",
    "            #assign data to cluster whose centroid is the closest one\n",
    "            for i in range(0, nCluster):\n",
    "                centroidRepeated = np.repeat(centroidInit[i,:], data.shape[0], axis=0)\n",
    "                deltaMatrix = abs(np.subtract(data,centroidRepeated))\n",
    "                euclideanMatrix = np.sqrt(np.square(deltaMatrix).sum(axis=1))\n",
    "                euclideanMatrixAllCluster = \\\n",
    "                    np.concatenate((euclideanMatrixAllCluster, euclideanMatrix), axis=1)\n",
    "            clusterMatrix = np.ravel(np.argmin(np.matrix(euclideanMatrixAllCluster), axis=1))\n",
    "            listClusterMember = [[] for i in range(self.k)]\n",
    "            for i in range(0, data.shape[0]):#assign data to cluster regarding cluster matrix\n",
    "                listClusterMember[np.asscalar(clusterMatrix[i])].append(data[i,:])\n",
    "            #calculate new centroid\n",
    "            newCentroid = np.ndarray(shape=(0, centroidInit.shape[1]))\n",
    "            for i in range(0,nCluster):\n",
    "                memberCluster = np.asmatrix(listClusterMember[i])\n",
    "                centroidCluster = memberCluster.mean(axis=0)\n",
    "                newCentroid = np.concatenate((newCentroid, centroidCluster), axis=0)\n",
    "            #break when converged\n",
    "            if((centroidInit == newCentroid).all()):\n",
    "                break\n",
    "            # update new centroid\n",
    "            centroidInit = newCentroid\n",
    "            # self.plotClusterResult(listClusterMember, centroidInit, str(self.iterationCounter), 0)\n",
    "            # time.sleep(1)\n",
    "        return listClusterMember, centroidInit\n",
    "\n",
    "    def fit(self, input, initCentroidMethod='random', k=2):\n",
    "        centroidInit = self.initCentroid(input, initCentroidMethod, k)\n",
    "        clusterResults, centroid = self.kMeans(input, centroidInit)\n",
    "        self.plotClusterResult(clusterResults, centroid, str(self.iterationCounter) + \" (converged)\", 1)\n",
    "        return { 'clusters': clusterResults, 'centroids': centroid }"
   ]
  },
  {
   "cell_type": "code",
   "execution_count": 201,
   "metadata": {
    "id": "XDRz8AChFUqx"
   },
   "outputs": [],
   "source": [
    "class GaussianMixtureClustering:\n",
    "    def __init__(self, n_components, max_iter = 100, comp_names=None):\n",
    "        self.n_componets = n_components\n",
    "        self.max_iter = max_iter\n",
    "        if comp_names == None:\n",
    "            self.comp_names = [index for index in range(self.n_componets)]\n",
    "        else:\n",
    "            self.comp_names = comp_names\n",
    "        # pi list contains the fraction of the dataset for every cluster\n",
    "        self.pi = [1/self.n_componets for comp in range(self.n_componets)]\n",
    "\n",
    "    def multivariate_normal(self, X, mean_vector, covariance_matrix):\n",
    "        return (2*np.pi)**(-len(X)/2)*np.linalg.det(covariance_matrix)**(-1/2)*np.exp(-np.dot(np.dot((X-mean_vector).T, np.linalg.inv(covariance_matrix)), (X-mean_vector))/2)\n",
    "\n",
    "    def fit(self, X):\n",
    "        # Spliting the data in n_componets sub-sets\n",
    "        new_X = np.array_split(X, self.n_componets)\n",
    "        # Initial computation of the mean-vector and covarience matrix\n",
    "        self.mean_vector = [np.mean(x, axis=0) for x in new_X]\n",
    "        self.covariance_matrixes = [np.cov(x.T) for x in new_X]\n",
    "        # Deleting the new_X matrix because we will not need it anymore\n",
    "        del new_X\n",
    "        for iteration in range(self.max_iter):\n",
    "            ''' --------------------------   E - STEP   -------------------------- '''\n",
    "            # Initiating the r matrix, evrey row contains the probabilities\n",
    "            # for every cluster for this row\n",
    "            self.r = np.zeros((len(X), self.n_componets))\n",
    "            # Calculating the r matrix\n",
    "            for n in range(len(X)):\n",
    "                for k in range(self.n_componets):\n",
    "                    self.r[n][k] = self.pi[k] * self.multivariate_normal(X[n], self.mean_vector[k], self.covariance_matrixes[k])\n",
    "                    self.r[n][k] /= sum([self.pi[j]*self.multivariate_normal(X[n], self.mean_vector[j], self.covariance_matrixes[j]) for j in range(self.n_componets)])\n",
    "            # Calculating the N\n",
    "            N = np.sum(self.r, axis=0)\n",
    "            ''' --------------------------   M - STEP   -------------------------- '''\n",
    "            # Initializing the mean vector as a zero vector\n",
    "            self.mean_vector = np.zeros((self.n_componets, len(X[0])))\n",
    "            # Updating the mean vector\n",
    "            for k in range(self.n_componets):\n",
    "                for n in range(len(X)):\n",
    "                    self.mean_vector[k] += self.r[n][k] * X[n]\n",
    "            self.mean_vector = [1/N[k]*self.mean_vector[k] for k in range(self.n_componets)]\n",
    "            # Initiating the list of the covariance matrixes\n",
    "            self.covariance_matrixes = [np.zeros((len(X[0]), len(X[0]))) for k in range(self.n_componets)]\n",
    "            # Updating the covariance matrices\n",
    "            for k in range(self.n_componets):\n",
    "                self.covariance_matrixes[k] = np.cov(X.T, aweights=(self.r[:, k]), ddof=0)\n",
    "            self.covariance_matrixes = [1/N[k]*self.covariance_matrixes[k] for k in range(self.n_componets)]\n",
    "            # Updating the pi list\n",
    "            self.pi = [N[k]/len(X) for k in range(self.n_componets)]\n",
    "    def predict(self, X):\n",
    "        probas = []\n",
    "        for n in range(len(X)):\n",
    "            probas.append([self.multivariate_normal(X[n], self.mean_vector[k], self.covariance_matrixes[k])\n",
    "                           for k in range(self.n_componets)])\n",
    "        cluster = []\n",
    "        for proba in probas:\n",
    "            cluster.append(self.comp_names[proba.index(max(proba))])\n",
    "        return cluster"
   ]
  },
  {
   "cell_type": "markdown",
   "metadata": {
    "id": "m0ocVU9Gh44j"
   },
   "source": [
    "# Define the dataset: toy example"
   ]
  },
  {
   "cell_type": "code",
   "execution_count": 270,
   "metadata": {
    "colab": {
     "base_uri": "https://localhost:8080/",
     "height": 265
    },
    "id": "0M4A7wpCSO5N",
    "outputId": "8989c174-8c1f-4f31-9ea1-6438a157425e"
   },
   "outputs": [
    {
     "data": {
      "image/png": "[encoded data removed]",
      "text/plain": [
       "<Figure size 432x288 with 1 Axes>"
      ]
     },
     "metadata": {
      "needs_background": "light"
     },
     "output_type": "display_data"
    }
   ],
   "source": [
    "X, y = make_classification(n_samples=100, n_features=2, n_informative=2, n_redundant=0, n_clusters_per_class=1, random_state=3)\n",
    "\n",
    "for class_value in range(2):\n",
    "    row_ix = np.where(y == class_value)\n",
    "    plt.scatter(X[row_ix, 0], X[row_ix, 1])\n",
    "plt.show()"
   ]
  },
  {
   "cell_type": "markdown",
   "metadata": {
    "id": "KMPGSPEQWPEy"
   },
   "source": [
    "# Clustering"
   ]
  },
  {
   "cell_type": "markdown",
   "metadata": {
    "id": "WVHRLP3Qucch"
   },
   "source": [
    "## K-Means clustering"
   ]
  },
  {
   "cell_type": "code",
   "execution_count": 271,
   "metadata": {
    "colab": {
     "base_uri": "https://localhost:8080/",
     "height": 265
    },
    "id": "9wQlrmWdHWh_",
    "outputId": "e06b4bef-4245-4333-af39-34570f1cb3b3"
   },
   "outputs": [
    {
     "data": {
      "image/png": "[encoded data removed]",
      "text/plain": [
       "<Figure size 432x288 with 1 Axes>"
      ]
     },
     "metadata": {
      "needs_background": "light"
     },
     "output_type": "display_data"
    }
   ],
   "source": [
    "kmeans = K_Means()\n",
    "kmeans.fit(X)\n",
    "\n",
    "for centroid in kmeans.centroids:\n",
    "    plt.scatter(kmeans.centroids[centroid][0], kmeans.centroids[centroid][1],\n",
    "                marker=\"+\", color=\"b\", s=50, linewidths=5)\n",
    "\n",
    "colors = ['r', 'b', 'g', 'k', 'y']\n",
    "cluster_number = 0\n",
    "for classification in kmeans.classifications:\n",
    "    for featureset in kmeans.classifications[classification]:\n",
    "        plt.scatter(featureset[0], featureset[1], marker=\"o\", color=colors[cluster_number], s=10, linewidths=5)\n",
    "    cluster_number += 1\n",
    "        \n",
    "plt.show()"
   ]
  },
  {
   "cell_type": "code",
   "execution_count": 272,
   "metadata": {
    "colab": {
     "base_uri": "https://localhost:8080/"
    },
    "id": "EJwNkytSaqZ1",
    "outputId": "2ebbad5a-bef1-4a6d-e27f-dd6af59b466d"
   },
   "outputs": [],
   "source": [
    "pred = []\n",
    "for el in X:\n",
    "    if np.any(np.all(el == kmeans.classifications[0], axis=1)):\n",
    "        pred.append(0)\n",
    "    else:\n",
    "        pred.append(1)"
   ]
  },
  {
   "cell_type": "code",
   "execution_count": 273,
   "metadata": {
    "colab": {
     "base_uri": "https://localhost:8080/",
     "height": 380
    },
    "id": "ne1cZb61aUsN",
    "outputId": "b6b0d1ee-afda-462a-d784-ad43b4def510"
   },
   "outputs": [
    {
     "name": "stdout",
     "output_type": "stream",
     "text": [
      "ARI: 0.5734430082256169\n",
      "AMI: 0.5711709879016148\n"
     ]
    }
   ],
   "source": [
    "print(\n",
    "    'ARI: {}\\nAMI: {}'.format(\n",
    "        adjusted_rand_score(y, pred), \n",
    "        adjusted_mutual_info_score(y, pred)\n",
    "        )\n",
    "    )"
   ]
  },
  {
   "cell_type": "markdown",
   "metadata": {
    "id": "DWv-gTRUutrD"
   },
   "source": [
    "## Spectral clustering"
   ]
  },
  {
   "cell_type": "code",
   "execution_count": 275,
   "metadata": {
    "colab": {
     "base_uri": "https://localhost:8080/",
     "height": 298
    },
    "id": "NI_S_hmkUKSt",
    "outputId": "9b50d1d5-4cd6-41fe-d40e-3670978c5f2c"
   },
   "outputs": [
    {
     "name": "stderr",
     "output_type": "stream",
     "text": [
      "c:\\users\\tasue\\appdata\\local\\programs\\python\\python37\\lib\\site-packages\\ipykernel_launcher.py:97: DeprecationWarning: np.asscalar(a) is deprecated since NumPy v1.16, use a.item() instead\n",
      "c:\\users\\tasue\\appdata\\local\\programs\\python\\python37\\lib\\site-packages\\ipykernel_launcher.py:73: UserWarning: You passed a edgecolor/edgecolors ('black') for an unfilled marker ('+').  Matplotlib is ignoring the edgecolor in favor of the facecolor.  This behavior may change in the future.\n"
     ]
    },
    {
     "data": {
      "image/png": "[encoded data removed]",
      "text/plain": [
       "<Figure size 432x288 with 1 Axes>"
      ]
     },
     "metadata": {
      "needs_background": "light"
     },
     "output_type": "display_data"
    }
   ],
   "source": [
    "spectral = SpectralClustering()\n",
    "res = spectral.fit(X)"
   ]
  },
  {
   "cell_type": "markdown",
   "metadata": {
    "id": "UtCcpY1Ju0Gx"
   },
   "source": [
    "## Gaussian mixture clustering"
   ]
  },
  {
   "cell_type": "code",
   "execution_count": 276,
   "metadata": {
    "id": "094U1yIyJqRR"
   },
   "outputs": [],
   "source": [
    "gmc = GaussianMixtureClustering(2)\n",
    "gmc.fit(X)"
   ]
  },
  {
   "cell_type": "code",
   "execution_count": 277,
   "metadata": {
    "colab": {
     "base_uri": "https://localhost:8080/",
     "height": 265
    },
    "id": "MTwbpRSXIWSm",
    "outputId": "4425e1c3-aa4c-411a-9a69-3f32b3eef298"
   },
   "outputs": [
    {
     "data": {
      "image/png": "[encoded data removed]",
      "text/plain": [
       "<Figure size 432x288 with 1 Axes>"
      ]
     },
     "metadata": {
      "needs_background": "light"
     },
     "output_type": "display_data"
    }
   ],
   "source": [
    "res = gmc.predict(X)\n",
    "clusters = [[] for i in range(2)]\n",
    "\n",
    "colors = ['r', 'b', 'b', 'y', 'k']\n",
    "\n",
    "for i in range(len(res)):\n",
    "    cluster_id = res[i]\n",
    "    clusters[cluster_id].append(X[i])\n",
    "    plt.scatter(X[i, 0], X[i, 1], c=colors[cluster_id])\n",
    "plt.show()"
   ]
  },
  {
   "cell_type": "code",
   "execution_count": 278,
   "metadata": {
    "colab": {
     "base_uri": "https://localhost:8080/"
    },
    "id": "MKC_Sd4ia7_P",
    "outputId": "cb025c42-ef41-4d2d-8869-c18e6b4a1ad7"
   },
   "outputs": [
    {
     "name": "stdout",
     "output_type": "stream",
     "text": [
      "ARI: 0.03897237726506867\n",
      "AMI: 0.02725269209426096\n"
     ]
    }
   ],
   "source": [
    "pred = gmc.predict(X)\n",
    "print(\n",
    "    'ARI: {}\\nAMI: {}'.format(\n",
    "        adjusted_rand_score(y, pred), \n",
    "        adjusted_mutual_info_score(y, pred)\n",
    "        )\n",
    "    )"
   ]
  },
  {
   "cell_type": "markdown",
   "metadata": {
    "id": "eOCwWfA7WPE1"
   },
   "source": [
    "## Convex clustering"
   ]
  },
  {
   "cell_type": "code",
   "execution_count": 208,
   "metadata": {
    "id": "lcv8ANvlnl9O"
   },
   "outputs": [],
   "source": [
    "class ConvexClustering:\n",
    "    def __init__(self, alpha=2):\n",
    "        self.alpha = alpha\n",
    "    \n",
    "    @staticmethod\n",
    "    def sum_substrcts(X, j):\n",
    "        sum = 0\n",
    "        for j1 in range(1, j):\n",
    "            for i in range(0, j1):\n",
    "                sum += cp.atoms.norm(X[i] - X[j1], p=2)\n",
    "        return sum\n",
    "\n",
    "    @staticmethod\n",
    "    def subsc_row(a, b):\n",
    "        return np.sum(a - b)\n",
    "    \n",
    "    def fit(self, A):\n",
    "        m, n = A.shape\n",
    "        X = cp.Variable((m, n))\n",
    "        z_function = cp.atoms.norm(A - X, 'fro') ** 2 + self.alpha * self.sum_substrcts(X, m)\n",
    "        problem = cp.Problem(cp.Minimize(z_function))\n",
    "        problem.solve()\n",
    "        res = X.value\n",
    "        return res\n",
    "    \n",
    "    def predict(self, res, A, thresh=0.5):\n",
    "        cluster_0 = []\n",
    "        cluster_1 = []\n",
    "\n",
    "        for i in range(len(res)):\n",
    "            if abs(self.subsc_row(res[0], res[i])) <= thresh:\n",
    "                cluster_0.append(A[i])\n",
    "            else:\n",
    "                cluster_1.append(A[i])\n",
    "        return cluster_0, cluster_1\n",
    "\n",
    "    @staticmethod\n",
    "    def visualize_clusters(cluster_0, cluster_1):\n",
    "        x_0 = [x[0] for x in cluster_0]\n",
    "        y_0 = [x[1] for x in cluster_0]\n",
    "        plt.plot(x_0, y_0, 'bo')\n",
    "\n",
    "        x_1 = [x[0] for x in cluster_1]\n",
    "        y_1 = [x[1] for x in cluster_1]\n",
    "        plt.plot(x_1, y_1, 'ro')\n",
    "\n",
    "        plt.plot(cluster_0[0][0], cluster_0[0][1], 'y+')\n",
    "        plt.show()"
   ]
  },
  {
   "cell_type": "code",
   "execution_count": 264,
   "metadata": {},
   "outputs": [
    {
     "data": {
      "image/png": "[encoded data removed]",
      "text/plain": [
       "<Figure size 432x288 with 1 Axes>"
      ]
     },
     "metadata": {
      "needs_background": "light"
     },
     "output_type": "display_data"
    }
   ],
   "source": [
    "# good examples 1 3 12 16 17 22 25 26 40\n",
    "# bad examples: 20 23 29\n",
    "X, y = make_classification(n_samples=100, n_features=2, n_informative=2, n_redundant=0, n_clusters_per_class=1, random_state=12)\n",
    "\n",
    "for class_value in range(2):\n",
    "    row_ix = np.where(y == class_value)\n",
    "    plt.scatter(X[row_ix, 0], X[row_ix, 1])\n",
    "plt.show()\n",
    "\n",
    "\n",
    "# X, y = make_circles(n_samples=100, random_state=123)\n",
    "\n",
    "# for class_value in range(2):\n",
    "#     row_ix = np.where(y == class_value)\n",
    "#     plt.scatter(X[row_ix, 0], X[row_ix, 1])\n",
    "# plt.show()\n"
   ]
  },
  {
   "cell_type": "code",
   "execution_count": 253,
   "metadata": {
    "id": "SoqHkGDajzly"
   },
   "outputs": [],
   "source": [
    "convcl = ConvexClustering()\n",
    "res = convcl.fit(X)"
   ]
  },
  {
   "cell_type": "code",
   "execution_count": 254,
   "metadata": {
    "colab": {
     "base_uri": "https://localhost:8080/"
    },
    "id": "srS-w84SfhEd",
    "outputId": "bc6fac8a-7a46-4c85-c326-f3152c8ba2ba"
   },
   "outputs": [
    {
     "data": {
      "text/plain": [
       "(0.0, 3.8419905776557974e-13, 1.7310978340741723e-13)"
      ]
     },
     "execution_count": 254,
     "metadata": {},
     "output_type": "execute_result"
    }
   ],
   "source": [
    "a = []\n",
    "for i in range(len(res)):\n",
    "    a.append(abs(convcl.subsc_row(res[0], res[i])))\n",
    "a = np.array(a)\n",
    "a.min(), a.max(), a.mean()"
   ]
  },
  {
   "cell_type": "code",
   "execution_count": 255,
   "metadata": {
    "id": "k4g6RcawX_uG"
   },
   "outputs": [],
   "source": [
    "# 8.083414590953295e-13"
   ]
  },
  {
   "cell_type": "code",
   "execution_count": 256,
   "metadata": {
    "colab": {
     "base_uri": "https://localhost:8080/",
     "height": 1000
    },
    "id": "rurM4oT1GTWO",
    "outputId": "2ff4305e-844d-4893-d681-937f8938bd92"
   },
   "outputs": [],
   "source": [
    "thresholds = np.linspace(a.min(), a.max(), 200)\n",
    "ari_opt = 0\n",
    "ami_opt = 0\n",
    "thresh_opt = 0\n",
    "for t in thresholds:\n",
    "#     print(t)\n",
    "    pred = []\n",
    "    cluster_0, cluster_1 = convcl.predict(res, X, thresh=t)\n",
    "    for r in res:\n",
    "        if abs(convcl.subsc_row(res[0], r)) <= t:\n",
    "            pred.append(0)\n",
    "        else:\n",
    "            pred.append(1)\n",
    "    ari = adjusted_rand_score(y, pred)\n",
    "    ami = adjusted_mutual_info_score(y, pred)\n",
    "    if ari >= ari_opt and ami >= ami_opt:\n",
    "        ari_opt = ari\n",
    "        ami_opt = ami\n",
    "        thresh_opt = t\n",
    "#     print('ARI: {}\\nAMI: {}'.format(ari, ami))\n",
    "#     convcl.visualize_clusters(cluster_0, cluster_1)"
   ]
  },
  {
   "cell_type": "code",
   "execution_count": 258,
   "metadata": {
    "colab": {
     "base_uri": "https://localhost:8080/",
     "height": 352
    },
    "id": "Omy-tQWzWkQn",
    "outputId": "fc2c2b57-4f32-4cf6-a70c-ead99d629827"
   },
   "outputs": [
    {
     "name": "stdout",
     "output_type": "stream",
     "text": [
      "2.8959727972279884e-14\n",
      "ARI: 0.0364963503649635\n",
      "AMI: 0.13811404698874086\n"
     ]
    },
    {
     "data": {
      "image/png": "[encoded data removed]",
      "text/plain": [
       "<Figure size 432x288 with 1 Axes>"
      ]
     },
     "metadata": {
      "needs_background": "light"
     },
     "output_type": "display_data"
    }
   ],
   "source": [
    "print(thresh_opt)\n",
    "pred = []\n",
    "cluster_0, cluster_1 = convcl.predict(res, X, thresh=thresh_opt)\n",
    "for r in res:\n",
    "    if abs(convcl.subsc_row(res[0], r)) <= thresh_opt:\n",
    "        pred.append(0)\n",
    "    else:\n",
    "        pred.append(1)\n",
    "ari = adjusted_rand_score(y, pred)\n",
    "ami = adjusted_mutual_info_score(y, pred)\n",
    "print('ARI: {}\\nAMI: {}'.format(ari, ami))\n",
    "convcl.visualize_clusters(cluster_0, cluster_1)"
   ]
  },
  {
   "cell_type": "code",
   "execution_count": null,
   "metadata": {
    "id": "X98GXlewdGxX"
   },
   "outputs": [],
   "source": []
  },
  {
   "cell_type": "markdown",
   "metadata": {
    "id": "bKzptD0EdmRV"
   },
   "source": [
    "# Define the dataset: Moons"
   ]
  },
  {
   "cell_type": "code",
   "execution_count": 38,
   "metadata": {
    "id": "0ROHEvp3dnZ1"
   },
   "outputs": [
    {
     "data": {
      "image/png": "[encoded data removed]",
      "text/plain": [
       "<Figure size 432x288 with 1 Axes>"
      ]
     },
     "metadata": {
      "needs_background": "light"
     },
     "output_type": "display_data"
    }
   ],
   "source": [
    "# 4 6\n",
    "X, y = make_classification(n_samples=100, n_features=2, n_informative=2, n_redundant=0, n_clusters_per_class=1, random_state=8)\n",
    "\n",
    "for class_value in range(2):\n",
    "    row_ix = np.where(y == class_value)\n",
    "    plt.scatter(X[row_ix, 0], X[row_ix, 1])\n",
    "plt.show()"
   ]
  },
  {
   "cell_type": "code",
   "execution_count": 22,
   "metadata": {
    "id": "IBjqwM84dw_S"
   },
   "outputs": [],
   "source": [
    "(train_X, train_y), (test_X, test_y) = mnist.load_data()"
   ]
  },
  {
   "cell_type": "code",
   "execution_count": 23,
   "metadata": {
    "colab": {
     "base_uri": "https://localhost:8080/"
    },
    "id": "lXIkjLLndz7K",
    "outputId": "d8ce0256-1437-451b-8e63-947f74e83f05"
   },
   "outputs": [
    {
     "data": {
      "text/plain": [
       "((70000, 784), (70000,))"
      ]
     },
     "execution_count": 23,
     "metadata": {},
     "output_type": "execute_result"
    }
   ],
   "source": [
    "all_X = np.append(train_X.reshape((train_X.shape[0], -1)), test_X.reshape((test_X.shape[0], -1)), axis=0)\n",
    "all_y = np.append(train_y, test_y, axis=0)\n",
    "all_X.shape, all_y.shape"
   ]
  },
  {
   "cell_type": "code",
   "execution_count": 28,
   "metadata": {
    "colab": {
     "base_uri": "https://localhost:8080/"
    },
    "id": "nurTENcPgeKl",
    "outputId": "443cc383-d75e-4ef3-8236-79ad2ebb6dd6"
   },
   "outputs": [
    {
     "name": "stdout",
     "output_type": "stream",
     "text": [
      "0 6903\n",
      "1 7877\n",
      "2 6990\n",
      "3 7141\n",
      "4 6824\n",
      "5 6313\n",
      "6 6876\n",
      "7 7293\n",
      "8 6825\n",
      "9 6958\n"
     ]
    }
   ],
   "source": [
    "for y in np.unique(all_y):\n",
    "    print(y, len(all_y[all_y == y]))"
   ]
  },
  {
   "cell_type": "markdown",
   "metadata": {
    "id": "LqPp_DPwgLzu"
   },
   "source": [
    "MNIST dataset is very huge, we will consider 20 pictures of each digit"
   ]
  },
  {
   "cell_type": "code",
   "execution_count": 43,
   "metadata": {
    "colab": {
     "base_uri": "https://localhost:8080/"
    },
    "id": "tl54YUZSebcw",
    "outputId": "a293c6e6-de80-48a0-b170-ffe59b7ce5dc"
   },
   "outputs": [
    {
     "name": "stdout",
     "output_type": "stream",
     "text": [
      "0 6903\n",
      "1 7877\n",
      "2 6990\n",
      "3 7141\n",
      "4 6824\n",
      "5 6313\n",
      "6 6876\n",
      "7 7293\n",
      "8 6825\n",
      "9 6958\n"
     ]
    },
    {
     "data": {
      "text/plain": [
       "((20, 784), (20,))"
      ]
     },
     "execution_count": 43,
     "metadata": {},
     "output_type": "execute_result"
    }
   ],
   "source": [
    "X = []\n",
    "y = []\n",
    "for d in np.unique(all_y):\n",
    "    print(d, len(all_y[all_y == d]))\n",
    "    X.append(all_X[all_y == d][:2])\n",
    "    y.append(all_y[all_y == d][:2])\n",
    "X = np.array(X).reshape((-1, all_X.shape[1]))\n",
    "y = np.array(y).reshape((-1, ))\n",
    "X.shape, y.shape"
   ]
  },
  {
   "cell_type": "code",
   "execution_count": null,
   "metadata": {},
   "outputs": [],
   "source": []
  },
  {
   "cell_type": "markdown",
   "metadata": {
    "id": "bGoiA6agfWhG"
   },
   "source": [
    "## Convex clustering"
   ]
  },
  {
   "cell_type": "code",
   "execution_count": 44,
   "metadata": {
    "id": "HaWLfvfrd1-0"
   },
   "outputs": [
    {
     "name": "stderr",
     "output_type": "stream",
     "text": [
      "c:\\users\\tasue\\appdata\\local\\programs\\python\\python37\\lib\\site-packages\\cvxpy\\problems\\problem.py:1295: UserWarning: Solution may be inaccurate. Try another solver, adjusting the solver settings, or solve with verbose=True for more information.\n",
      "  \"Solution may be inaccurate. Try another solver, \"\n"
     ]
    }
   ],
   "source": [
    "convcl = ConvexClustering(alpha=10)\n",
    "res = convcl.fit(X)"
   ]
  },
  {
   "cell_type": "code",
   "execution_count": 50,
   "metadata": {},
   "outputs": [
    {
     "data": {
      "text/plain": [
       "array([0.00000000e+00, 0.00000000e+00, 0.00000000e+00, 0.00000000e+00,\n",
       "       0.00000000e+00, 0.00000000e+00, 0.00000000e+00, 0.00000000e+00,\n",
       "       0.00000000e+00, 0.00000000e+00, 0.00000000e+00, 0.00000000e+00,\n",
       "       0.00000000e+00, 0.00000000e+00, 0.00000000e+00, 0.00000000e+00,\n",
       "       0.00000000e+00, 0.00000000e+00, 0.00000000e+00, 0.00000000e+00,\n",
       "       0.00000000e+00, 0.00000000e+00, 0.00000000e+00, 0.00000000e+00,\n",
       "       0.00000000e+00, 0.00000000e+00, 0.00000000e+00, 0.00000000e+00,\n",
       "       0.00000000e+00, 0.00000000e+00, 0.00000000e+00, 0.00000000e+00,\n",
       "       0.00000000e+00, 0.00000000e+00, 0.00000000e+00, 0.00000000e+00,\n",
       "       0.00000000e+00, 0.00000000e+00, 0.00000000e+00, 0.00000000e+00,\n",
       "       0.00000000e+00, 0.00000000e+00, 0.00000000e+00, 0.00000000e+00,\n",
       "       0.00000000e+00, 0.00000000e+00, 0.00000000e+00, 0.00000000e+00,\n",
       "       0.00000000e+00, 0.00000000e+00, 0.00000000e+00, 0.00000000e+00,\n",
       "       0.00000000e+00, 0.00000000e+00, 0.00000000e+00, 0.00000000e+00,\n",
       "       0.00000000e+00, 0.00000000e+00, 0.00000000e+00, 0.00000000e+00,\n",
       "       0.00000000e+00, 0.00000000e+00, 0.00000000e+00, 0.00000000e+00,\n",
       "       0.00000000e+00, 0.00000000e+00, 0.00000000e+00, 0.00000000e+00,\n",
       "       0.00000000e+00, 0.00000000e+00, 0.00000000e+00, 0.00000000e+00,\n",
       "       7.60012568e-02, 4.44007342e-01, 4.50007442e-01, 0.00000000e+00,\n",
       "       0.00000000e+00, 0.00000000e+00, 0.00000000e+00, 0.00000000e+00,\n",
       "       0.00000000e+00, 0.00000000e+00, 0.00000000e+00, 0.00000000e+00,\n",
       "       0.00000000e+00, 0.00000000e+00, 0.00000000e+00, 0.00000000e+00,\n",
       "       0.00000000e+00, 0.00000000e+00, 0.00000000e+00, 0.00000000e+00,\n",
       "       0.00000000e+00, 0.00000000e+00, 0.00000000e+00, 0.00000000e+00,\n",
       "       0.00000000e+00, 0.00000000e+00, 0.00000000e+00, 2.94004862e-01,\n",
       "       5.35047990e-01, 8.37237817e-01, 8.44948842e-01, 7.88708834e-02,\n",
       "       0.00000000e+00, 0.00000000e+00, 0.00000000e+00, 0.00000000e+00,\n",
       "       0.00000000e+00, 0.00000000e+00, 0.00000000e+00, 0.00000000e+00,\n",
       "       0.00000000e+00, 0.00000000e+00, 0.00000000e+00, 0.00000000e+00,\n",
       "       0.00000000e+00, 0.00000000e+00, 0.00000000e+00, 0.00000000e+00,\n",
       "       0.00000000e+00, 0.00000000e+00, 0.00000000e+00, 8.26482661e-02,\n",
       "       4.86903802e-01, 9.24875815e-01, 1.09129859e+00, 4.99914183e+01,\n",
       "       1.54241188e+02, 2.44590035e+02, 1.54254544e+02, 4.90694122e+01,\n",
       "       2.25796870e-01, 0.00000000e+00, 3.41323303e-01, 3.43129246e-01,\n",
       "       0.00000000e+00, 0.00000000e+00, 0.00000000e+00, 0.00000000e+00,\n",
       "       0.00000000e+00, 0.00000000e+00, 0.00000000e+00, 0.00000000e+00,\n",
       "       0.00000000e+00, 0.00000000e+00, 0.00000000e+00, 0.00000000e+00,\n",
       "       0.00000000e+00, 0.00000000e+00, 2.02685033e-01, 7.79842992e-01,\n",
       "       1.38847706e+00, 2.01424425e+00, 4.90774942e+01, 2.32033329e+02,\n",
       "       2.45534118e+02, 2.44866228e+02, 2.44961833e+02, 2.30260168e+02,\n",
       "       2.41793021e+00, 2.16025040e+00, 1.10707772e+00, 5.42276644e-01,\n",
       "       0.00000000e+00, 0.00000000e+00, 0.00000000e+00, 0.00000000e+00,\n",
       "       0.00000000e+00, 0.00000000e+00, 0.00000000e+00, 0.00000000e+00,\n",
       "       1.07218339e-01, 1.40075571e-01, 0.00000000e+00, 0.00000000e+00,\n",
       "       6.28269221e-02, 1.95688535e-01, 8.29741359e-01, 1.70381117e+00,\n",
       "       2.15656736e+00, 5.51733666e+01, 2.22514363e+02, 2.47718615e+02,\n",
       "       2.46421423e+02, 2.34017299e+02, 2.27687461e+02, 2.45672603e+02,\n",
       "       5.86192463e+01, 8.96436745e+00, 1.07610002e+00, 2.89341900e-01,\n",
       "       0.00000000e+00, 0.00000000e+00, 0.00000000e+00, 0.00000000e+00,\n",
       "       0.00000000e+00, 0.00000000e+00, 0.00000000e+00, 0.00000000e+00,\n",
       "       2.17895333e-01, 2.81880471e-01, 0.00000000e+00, 1.02617306e-01,\n",
       "       4.98426915e-01, 1.25488162e+00, 1.45737207e+00, 1.13350989e+01,\n",
       "       6.07319415e+01, 2.20213769e+02, 2.48033225e+02, 2.48783216e+02,\n",
       "       2.47886593e+02, 1.99750016e+02, 8.52028711e+01, 2.46297137e+02,\n",
       "       2.47727439e+02, 1.20644075e+02, 9.80896195e-01, 4.18653330e-01,\n",
       "       4.18653330e-01, 2.84469570e-01, 0.00000000e+00, 0.00000000e+00,\n",
       "       0.00000000e+00, 0.00000000e+00, 0.00000000e+00, 0.00000000e+00,\n",
       "       3.80452169e-01, 2.81880471e-01, 0.00000000e+00, 3.76961532e-02,\n",
       "       5.87899594e-01, 1.24180463e+00, 1.61223384e+00, 1.59294076e+02,\n",
       "       2.47420615e+02, 2.48790207e+02, 2.47834785e+02, 2.48268236e+02,\n",
       "       2.46856810e+02, 2.47731684e+02, 9.67532380e+01, 1.85934777e+02,\n",
       "       2.48085429e+02, 1.64300372e+02, 9.42321991e-01, 4.92030531e-01,\n",
       "       4.52646549e-01, 3.84660111e-01, 0.00000000e+00, 0.00000000e+00,\n",
       "       0.00000000e+00, 1.42509031e-01, 0.00000000e+00, 0.00000000e+00,\n",
       "       3.83910825e-01, 2.81880471e-01, 0.00000000e+00, 0.00000000e+00,\n",
       "       3.55538472e-01, 1.30710985e+00, 5.15111557e+01, 2.32991821e+02,\n",
       "       2.49154481e+02, 2.49261171e+02, 1.87387237e+02, 1.12967533e+02,\n",
       "       2.46836088e+02, 2.24263694e+02, 5.02983918e+01, 8.12499374e+01,\n",
       "       2.50161158e+02, 1.64655773e+02, 8.67440863e-01, 4.94156156e-01,\n",
       "       1.43129344e-02, 0.00000000e+00, 0.00000000e+00, 0.00000000e+00,\n",
       "       0.00000000e+00, 1.64433497e-02, 0.00000000e+00, 7.95490899e-02,\n",
       "       4.23685370e-01, 2.81880471e-01, 0.00000000e+00, 1.34286568e-01,\n",
       "       4.55367973e-01, 4.77907844e+01, 2.32295585e+02, 2.47052046e+02,\n",
       "       2.47788837e+02, 1.76471008e+02, 1.44667288e+01, 7.54301347e+01,\n",
       "       1.19695170e+02, 2.46505847e+01, 5.53058250e+00, 5.21397096e+00,\n",
       "       2.47714963e+02, 2.36196789e+02, 4.87037911e+01, 1.68788494e-01,\n",
       "       0.00000000e+00, 0.00000000e+00, 0.00000000e+00, 0.00000000e+00,\n",
       "       0.00000000e+00, 0.00000000e+00, 0.00000000e+00, 2.07519365e-01,\n",
       "       4.39249323e-01, 2.81880471e-01, 0.00000000e+00, 3.67313260e-01,\n",
       "       3.76389553e+01, 1.61405420e+02, 2.46687228e+02, 2.28661935e+02,\n",
       "       2.04329938e+02, 8.38409622e+01, 2.43238162e+00, 3.31761403e+00,\n",
       "       3.70781645e+00, 4.51336356e+00, 5.20478590e+00, 4.93544553e+00,\n",
       "       2.47026599e+02, 2.43974357e+02, 1.59106718e+02, 0.00000000e+00,\n",
       "       0.00000000e+00, 0.00000000e+00, 0.00000000e+00, 0.00000000e+00,\n",
       "       0.00000000e+00, 0.00000000e+00, 0.00000000e+00, 2.74963159e-01,\n",
       "       4.39249323e-01, 2.07519365e-01, 1.38236173e-01, 7.79758267e+00,\n",
       "       1.73176944e+02, 2.45177833e+02, 2.33850450e+02, 7.20390643e+01,\n",
       "       2.12981665e+01, 3.00799582e+01, 2.78392791e+00, 4.04556842e+00,\n",
       "       4.27953327e+00, 5.31300666e+00, 5.02968138e+00, 3.99299758e+00,\n",
       "       2.45960928e+02, 2.43542627e+02, 1.87786721e+02, 0.00000000e+00,\n",
       "       0.00000000e+00, 0.00000000e+00, 0.00000000e+00, 0.00000000e+00,\n",
       "       0.00000000e+00, 0.00000000e+00, 0.00000000e+00, 2.74963159e-01,\n",
       "       4.39249323e-01, 1.15864979e-01, 3.95628708e-01, 5.65879656e+01,\n",
       "       2.44560967e+02, 2.44936178e+02, 6.28668119e+01, 3.12117714e+00,\n",
       "       2.77955309e+00, 3.88929935e+00, 4.73218255e+00, 5.46324054e+00,\n",
       "       5.87802363e+00, 5.72789452e+00, 4.43373415e+00, 2.32558204e+00,\n",
       "       2.45033285e+02, 2.43832250e+02, 1.87848722e+02, 0.00000000e+00,\n",
       "       0.00000000e+00, 0.00000000e+00, 0.00000000e+00, 0.00000000e+00,\n",
       "       0.00000000e+00, 0.00000000e+00, 0.00000000e+00, 2.74963159e-01,\n",
       "       4.39249323e-01, 1.46992884e-01, 3.77593410e-01, 1.92316736e+02,\n",
       "       2.45734190e+02, 1.84437426e+02, 2.04746099e+00, 3.30775713e+00,\n",
       "       4.25624782e+00, 5.10720264e+00, 6.19063354e+00, 6.49554042e+00,\n",
       "       6.10631766e+00, 4.73697346e+00, 3.39732222e+00, 9.21488231e-01,\n",
       "       2.46681697e+02, 2.44831858e+02, 1.88848628e+02, 1.25516307e-01,\n",
       "       2.32298837e-01, 7.30617311e-02, 0.00000000e+00, 0.00000000e+00,\n",
       "       0.00000000e+00, 0.00000000e+00, 0.00000000e+00, 2.59399206e-01,\n",
       "       4.37519995e-01, 5.67550147e-01, 7.43257098e+01, 2.38767045e+02,\n",
       "       2.45324419e+02, 1.10345932e+02, 3.29483308e+00, 3.64050271e+00,\n",
       "       4.46029901e+00, 5.35165728e+00, 6.00350810e+00, 5.80091823e+00,\n",
       "       4.77055717e+00, 3.52683805e+00, 3.03571928e+00, 2.09335057e+00,\n",
       "       2.44988486e+02, 2.44118037e+02, 1.42973595e+02, 4.75837941e-01,\n",
       "       4.51484031e-01, 2.99740435e-01, 0.00000000e+00, 0.00000000e+00,\n",
       "       0.00000000e+00, 0.00000000e+00, 0.00000000e+00, 0.00000000e+00,\n",
       "       2.05790037e-01, 9.87065751e-01, 8.31701306e+01, 2.44546968e+02,\n",
       "       2.24318349e+02, 2.69208652e+01, 2.86564981e+00, 2.38588618e+00,\n",
       "       3.17477378e+00, 4.34096283e+00, 5.60832213e+00, 4.48524461e+00,\n",
       "       3.32999189e+00, 3.40498791e+00, 1.05661882e+01, 1.33256302e+02,\n",
       "       2.45257074e+02, 1.80344114e+02, 1.18982939e+01, 9.74156415e-02,\n",
       "       6.18214648e-02, 0.00000000e+00, 0.00000000e+00, 0.00000000e+00,\n",
       "       0.00000000e+00, 0.00000000e+00, 0.00000000e+00, 0.00000000e+00,\n",
       "       0.00000000e+00, 6.80974688e-01, 8.31209862e+01, 2.45069151e+02,\n",
       "       2.17480354e+02, 2.30422146e+00, 2.36624801e+00, 2.12305061e+00,\n",
       "       2.67766266e+00, 4.48977161e+00, 5.52164969e+00, 3.98686130e+00,\n",
       "       3.21731419e+00, 1.03029012e+01, 1.29536550e+02, 2.45616917e+02,\n",
       "       2.18053469e+02, 6.94620259e+01, 2.05803767e-01, 9.15928708e-02,\n",
       "       9.15928708e-02, 0.00000000e+00, 0.00000000e+00, 0.00000000e+00,\n",
       "       0.00000000e+00, 0.00000000e+00, 0.00000000e+00, 0.00000000e+00,\n",
       "       0.00000000e+00, 6.86582415e-01, 8.39214599e+01, 2.45541307e+02,\n",
       "       1.42155549e+02, 1.97787236e+00, 2.19972397e+00, 1.49596160e+00,\n",
       "       2.17711959e+00, 4.19558404e+00, 4.62469747e+00, 4.19013118e+00,\n",
       "       4.91407733e+01, 1.61900036e+02, 2.45274916e+02, 1.68715158e+02,\n",
       "       1.13679681e+00, 6.18939018e-01, 4.71049050e-01, 4.71049050e-01,\n",
       "       4.16841024e-01, 0.00000000e+00, 0.00000000e+00, 0.00000000e+00,\n",
       "       0.00000000e+00, 0.00000000e+00, 0.00000000e+00, 0.00000000e+00,\n",
       "       0.00000000e+00, 8.80829202e-01, 8.50613322e+01, 2.46911846e+02,\n",
       "       2.19704414e+02, 1.69139242e+00, 2.20196177e+00, 1.92028915e+00,\n",
       "       3.26927655e+00, 4.38466263e+00, 4.83094784e+00, 1.13740027e+02,\n",
       "       2.32594578e+02, 2.46715662e+02, 1.58693915e+02, 1.69702749e+00,\n",
       "       1.39779015e-01, 1.66362561e-01, 3.36463607e-01, 3.36463607e-01,\n",
       "       6.91619636e-02, 0.00000000e+00, 0.00000000e+00, 0.00000000e+00,\n",
       "       0.00000000e+00, 0.00000000e+00, 0.00000000e+00, 0.00000000e+00,\n",
       "       0.00000000e+00, 8.62570965e-01, 8.46916184e+01, 2.46304885e+02,\n",
       "       2.43095408e+02, 1.43769009e+02, 4.97958381e+01, 3.16033005e+01,\n",
       "       8.65628805e+01, 1.76381537e+02, 2.21607120e+02, 2.47852839e+02,\n",
       "       2.17948517e+02, 1.63825909e+02, 5.58998766e+01, 4.66977428e-01,\n",
       "       0.00000000e+00, 0.00000000e+00, 0.00000000e+00, 0.00000000e+00,\n",
       "       0.00000000e+00, 0.00000000e+00, 0.00000000e+00, 0.00000000e+00,\n",
       "       0.00000000e+00, 0.00000000e+00, 0.00000000e+00, 0.00000000e+00,\n",
       "       0.00000000e+00, 8.88865878e-01, 8.39621235e+01, 2.45930489e+02,\n",
       "       2.46106793e+02, 2.46762765e+02, 2.24864967e+02, 2.12502819e+02,\n",
       "       2.48513549e+02, 2.47791985e+02, 2.47017674e+02, 1.92260427e+02,\n",
       "       1.27775359e+02, 1.87363943e+00, 7.13845453e-01, 1.66015492e-01,\n",
       "       0.00000000e+00, 0.00000000e+00, 0.00000000e+00, 0.00000000e+00,\n",
       "       0.00000000e+00, 0.00000000e+00, 0.00000000e+00, 0.00000000e+00,\n",
       "       0.00000000e+00, 0.00000000e+00, 0.00000000e+00, 0.00000000e+00,\n",
       "       0.00000000e+00, 6.46260253e-01, 2.81197268e+01, 1.94024581e+02,\n",
       "       2.45972561e+02, 2.47107894e+02, 2.48782594e+02, 2.48401836e+02,\n",
       "       2.47886698e+02, 2.27975357e+02, 1.42665214e+02, 2.92325828e+00,\n",
       "       1.08721716e+00, 7.63907314e-01, 5.00729002e-01, 2.64587190e-01,\n",
       "       0.00000000e+00, 0.00000000e+00, 0.00000000e+00, 0.00000000e+00,\n",
       "       0.00000000e+00, 0.00000000e+00, 0.00000000e+00, 0.00000000e+00,\n",
       "       0.00000000e+00, 0.00000000e+00, 0.00000000e+00, 0.00000000e+00,\n",
       "       1.15182690e-01, 5.37112669e-01, 1.20706549e+00, 2.57675555e+01,\n",
       "       1.25301364e+02, 2.45979894e+02, 2.48114903e+02, 2.47497488e+02,\n",
       "       1.38875186e+02, 3.70287004e+01, 1.43015889e+00, 1.03277805e+00,\n",
       "       5.48669571e-01, 7.36666696e-01, 5.02458330e-01, 2.64587190e-01,\n",
       "       0.00000000e+00, 0.00000000e+00, 0.00000000e+00, 0.00000000e+00,\n",
       "       0.00000000e+00, 0.00000000e+00, 0.00000000e+00, 0.00000000e+00,\n",
       "       0.00000000e+00, 0.00000000e+00, 0.00000000e+00, 0.00000000e+00,\n",
       "       2.84815380e-01, 5.29840376e-01, 6.27718361e-01, 1.19438113e+00,\n",
       "       1.74482943e+00, 2.69364964e+00, 2.88054060e+00, 1.80358956e+00,\n",
       "       2.47025483e-01, 0.00000000e+00, 1.81741502e-01, 4.77071443e-01,\n",
       "       3.57803583e-01, 2.45527399e-01, 4.39249323e-01, 2.64587190e-01,\n",
       "       0.00000000e+00, 0.00000000e+00, 0.00000000e+00, 0.00000000e+00,\n",
       "       0.00000000e+00, 0.00000000e+00, 0.00000000e+00, 0.00000000e+00,\n",
       "       0.00000000e+00, 0.00000000e+00, 0.00000000e+00, 0.00000000e+00,\n",
       "       0.00000000e+00, 0.00000000e+00, 0.00000000e+00, 0.00000000e+00,\n",
       "       4.69505509e-01, 9.72520651e-01, 8.04315156e-01, 9.01560039e-02,\n",
       "       0.00000000e+00, 0.00000000e+00, 2.65039691e-02, 3.48337879e-01,\n",
       "       4.77071443e-01, 3.21833910e-01, 2.08245471e-02, 0.00000000e+00,\n",
       "       0.00000000e+00, 0.00000000e+00, 0.00000000e+00, 0.00000000e+00,\n",
       "       0.00000000e+00, 0.00000000e+00, 0.00000000e+00, 0.00000000e+00,\n",
       "       0.00000000e+00, 0.00000000e+00, 0.00000000e+00, 0.00000000e+00,\n",
       "       0.00000000e+00, 0.00000000e+00, 0.00000000e+00, 1.01355743e-01,\n",
       "       5.60258238e-01, 7.39777833e-01, 2.08564225e-01, 0.00000000e+00,\n",
       "       0.00000000e+00, 0.00000000e+00, 0.00000000e+00, 2.65039691e-02,\n",
       "       2.78291675e-01, 4.77071443e-01, 7.95119072e-02, 0.00000000e+00,\n",
       "       0.00000000e+00, 0.00000000e+00, 0.00000000e+00, 0.00000000e+00,\n",
       "       0.00000000e+00, 0.00000000e+00, 0.00000000e+00, 0.00000000e+00,\n",
       "       0.00000000e+00, 0.00000000e+00, 0.00000000e+00, 0.00000000e+00,\n",
       "       0.00000000e+00, 0.00000000e+00, 0.00000000e+00, 0.00000000e+00,\n",
       "       0.00000000e+00, 0.00000000e+00, 0.00000000e+00, 0.00000000e+00,\n",
       "       0.00000000e+00, 0.00000000e+00, 0.00000000e+00, 0.00000000e+00,\n",
       "       0.00000000e+00, 0.00000000e+00, 0.00000000e+00, 0.00000000e+00,\n",
       "       0.00000000e+00, 0.00000000e+00, 0.00000000e+00, 0.00000000e+00,\n",
       "       0.00000000e+00, 0.00000000e+00, 0.00000000e+00, 0.00000000e+00])"
      ]
     },
     "execution_count": 50,
     "metadata": {},
     "output_type": "execute_result"
    }
   ],
   "source": [
    "res[0]"
   ]
  },
  {
   "cell_type": "code",
   "execution_count": 52,
   "metadata": {
    "id": "UnP1-9oKed3q"
   },
   "outputs": [
    {
     "data": {
      "text/plain": [
       "(0.0, 250.16115756385992, 39.3524323211512)"
      ]
     },
     "execution_count": 52,
     "metadata": {},
     "output_type": "execute_result"
    }
   ],
   "source": [
    "a = []\n",
    "for i in range(len(res[0])):\n",
    "    a.append(abs(convcl.subsc_row(res[0][0], res[0][i])))\n",
    "a = np.array(a)\n",
    "a.min(), a.max(), a.mean()"
   ]
  },
  {
   "cell_type": "code",
   "execution_count": 54,
   "metadata": {
    "id": "-YzJmIBEfM5h"
   },
   "outputs": [
    {
     "name": "stdout",
     "output_type": "stream",
     "text": [
      "39.3524323211512\n",
      "len of cluster_0: 1\n",
      "len of cluster_1: 19\n",
      "ARI: 0.0\n",
      "AMI: -1.014829413346934e-15\n"
     ]
    },
    {
     "data": {
      "image/png": "[encoded data removed]",
      "text/plain": [
       "<Figure size 432x288 with 1 Axes>"
      ]
     },
     "metadata": {
      "needs_background": "light"
     },
     "output_type": "display_data"
    }
   ],
   "source": [
    "print(a.mean())\n",
    "pred = []\n",
    "cluster_0, cluster_1 = convcl.predict(res, X, thresh=a.mean())\n",
    "for r in res:\n",
    "    if abs(convcl.subsc_row(res[0], r)) <= a.mean():\n",
    "        pred.append(0)\n",
    "    else:\n",
    "        pred.append(1)\n",
    "ari = adjusted_rand_score(y, pred)\n",
    "ami = adjusted_mutual_info_score(y, pred)\n",
    "print('ARI: {}\\nAMI: {}'.format(ari, ami))\n",
    "convcl.visualize_clusters(cluster_0, cluster_1)"
   ]
  },
  {
   "cell_type": "code",
   "execution_count": null,
   "metadata": {
    "id": "QfH-qTOCfRO1"
   },
   "outputs": [],
   "source": []
  },
  {
   "cell_type": "code",
   "execution_count": null,
   "metadata": {},
   "outputs": [],
   "source": []
  }
 ],
 "metadata": {
  "colab": {
   "collapsed_sections": [],
   "name": "convex_fp_ipynb_1.ipynb",
   "provenance": []
  },
  "kernelspec": {
   "display_name": "Python 3 (ipykernel)",
   "language": "python",
   "name": "python3"
  },
  "language_info": {
   "codemirror_mode": {
    "name": "ipython",
    "version": 3
   },
   "file_extension": ".py",
   "mimetype": "text/x-python",
   "name": "python",
   "nbconvert_exporter": "python",
   "pygments_lexer": "ipython3",
   "version": "3.7.9"
  }
 },
 "nbformat": 4,
 "nbformat_minor": 1
}
